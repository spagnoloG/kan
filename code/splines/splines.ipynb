{
 "cells": [
  {
   "cell_type": "code",
   "execution_count": 6,
   "metadata": {},
   "outputs": [],
   "source": [
    "import numpy as np\n",
    "import torch\n",
    "import matplotlib.pyplot as plt"
   ]
  },
  {
   "cell_type": "code",
   "execution_count": 7,
   "metadata": {},
   "outputs": [],
   "source": [
    "def extend_grid(grid, k):\n",
    "    \"\"\"\n",
    "    Extends the grid on either size by k steps\n",
    "\n",
    "    Args:\n",
    "        grid: number of splines x number of control points\n",
    "        k: spline order\n",
    "\n",
    "    Returns:\n",
    "        new_grid: number of splines x (number of control points + 2 * k)\n",
    "    \"\"\"\n",
    "    n_intervals = grid.shape[-1] - 1\n",
    "    bucket_size = (grid[:, -1] - grid[:, 0]) / n_intervals\n",
    "    \n",
    "    for i in range(k):\n",
    "        grid = torch.cat([grid[:, :1] - bucket_size, grid], dim=-1)\n",
    "        grid = torch.cat([grid, grid[:, -1:] + bucket_size], dim=-1)\n",
    "\n",
    "    return grid"
   ]
  },
  {
   "cell_type": "code",
   "execution_count": 8,
   "metadata": {},
   "outputs": [],
   "source": [
    "def eval_basis_functions(x_eval, grid, k):\n",
    "    \"\"\"\n",
    "    Returns the value of basis functions defiend for order-k splines and control points defined in `grid`. \n",
    "\n",
    "    Args:\n",
    "        x_eval: number of samples x number of dimensions\n",
    "        grid: number of splines x number of control points\n",
    "        k (scalar): order of spline\n",
    "\n",
    "    Returns:\n",
    "        bases: number of samples x number of dimensions x number of basis functions\n",
    "    \"\"\"\n",
    "    grid_ = extend_grid(grid, k)\n",
    "    # Reshape so that each x can be compared to each control point\n",
    "    grid_ = grid_.unsqueeze(dim=2)\n",
    "    x_ = x_eval.unsqueeze(dim=1)\n",
    "    \n",
    "    for idx in range(k+1):\n",
    "        if idx == 0:\n",
    "            bases = (x_ >= grid_[:, :-1]) * (x_ < grid_[:, 1:]) * 1.0 # step function; for each x in between the corresponding knots, the value is 1.\n",
    "        else:\n",
    "            bases1 = (x_ - grid_[:, :-(idx+1)]) / (grid_[:, 1:-idx] - grid_[:, :-(idx+1)]) * bases[:, :-1]\n",
    "            bases2 = (grid_[:, (idx+1):] - x_) / (grid_[:, (idx+1):] - grid_[:, 1:-idx]) * bases[:, 1:]\n",
    "            bases = bases1 + bases2\n",
    "\n",
    "    return bases.transpose(1, 2) * 1.0"
   ]
  },
  {
   "cell_type": "code",
   "execution_count": 10,
   "metadata": {},
   "outputs": [],
   "source": [
    "knots = torch.linspace(-1, 1, steps=10)\n",
    "x = torch.linspace(-1, 1, steps=1000) # points to evaluate the basis functions\n",
    "\n",
    "ks = [0, 1, 2, 3]\n",
    "\n",
    "\n",
    "\n"
   ]
  }
 ],
 "metadata": {
  "kernelspec": {
   "display_name": ".venv",
   "language": "python",
   "name": "python3"
  },
  "language_info": {
   "codemirror_mode": {
    "name": "ipython",
    "version": 3
   },
   "file_extension": ".py",
   "mimetype": "text/x-python",
   "name": "python",
   "nbconvert_exporter": "python",
   "pygments_lexer": "ipython3",
   "version": "3.12.7"
  }
 },
 "nbformat": 4,
 "nbformat_minor": 2
}
